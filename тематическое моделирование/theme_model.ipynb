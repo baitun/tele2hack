{
 "cells": [
  {
   "cell_type": "markdown",
   "metadata": {},
   "source": [
    "# Тематическое моделирование обращений абонентов"
   ]
  },
  {
   "cell_type": "code",
   "execution_count": 36,
   "metadata": {},
   "outputs": [],
   "source": [
    "import codecs\n",
    "import numpy as np"
   ]
  },
  {
   "cell_type": "markdown",
   "metadata": {},
   "source": [
    "Загружаем исходные данные"
   ]
  },
  {
   "cell_type": "code",
   "execution_count": 217,
   "metadata": {},
   "outputs": [],
   "source": [
    "f = codecs.open(\"all_income.txt\", \"r\", encoding=\"utf-8\")\n",
    "data=[]\n",
    "line = f.readline()\n",
    "data.append(line)\n",
    "while line:\n",
    "    line = f.readline()\n",
    "    data.append(line)\n",
    "f.close()"
   ]
  },
  {
   "cell_type": "code",
   "execution_count": 218,
   "metadata": {},
   "outputs": [
    {
     "data": {
      "text/plain": [
       "211420"
      ]
     },
     "execution_count": 218,
     "metadata": {},
     "output_type": "execute_result"
    }
   ],
   "source": [
    "len(data)"
   ]
  },
  {
   "cell_type": "markdown",
   "metadata": {},
   "source": [
    "Определим глобальные частоты слов в обращениях, приведя их к нормальным формам. Поскольку 1000 обращений обрабатывается примерно за 3 минуты, ограничим выборку до 10000"
   ]
  },
  {
   "cell_type": "code",
   "execution_count": 220,
   "metadata": {},
   "outputs": [],
   "source": [
    "mydict={}\n",
    "data_train=data[0:10000]"
   ]
  },
  {
   "cell_type": "code",
   "execution_count": 221,
   "metadata": {},
   "outputs": [],
   "source": [
    "import pymorphy2\n",
    "morph = pymorphy2.MorphAnalyzer()"
   ]
  },
  {
   "cell_type": "code",
   "execution_count": 222,
   "metadata": {},
   "outputs": [
    {
     "name": "stdout",
     "output_type": "stream",
     "text": [
      "0\n",
      "1000\n",
      "2000\n",
      "3000\n",
      "4000\n",
      "5000\n",
      "6000\n",
      "7000\n",
      "8000\n",
      "9000\n"
     ]
    }
   ],
   "source": [
    "for i in range (0,len(data_train)):\n",
    "    if i % 1000 == 0:\n",
    "        print i\n",
    "    str1=data_train[i].split()\n",
    "    for j in range (0,len(str1)):\n",
    "        word1=str1[j]\n",
    "        word1=morph.parse(word1)[0].normalized[0]\n",
    "        #print word1\n",
    "        if mydict.get(word1)>0:\n",
    "            s=mydict.get(word1)\n",
    "            dict2={word1:s+1}\n",
    "            mydict.update(dict2)\n",
    "        else:\n",
    "                mydict.setdefault(word1,1)\n",
    "        "
   ]
  },
  {
   "cell_type": "markdown",
   "metadata": {},
   "source": [
    "Отбросим те слова, которые встречаются менее, чем в 1% обращений (т.е. менее 100 раз)"
   ]
  },
  {
   "cell_type": "code",
   "execution_count": 223,
   "metadata": {},
   "outputs": [],
   "source": [
    "f2 = codecs.open(\"dict.txt\", \"w\", encoding=\"utf-8\")\n",
    "for key in mydict.keys():\n",
    "    s=mydict.get(key)\n",
    "    if s>=100:\n",
    "        f2.write(key+':'+str(s)+'\\n')\n",
    "f2.close()"
   ]
  },
  {
   "cell_type": "code",
   "execution_count": 224,
   "metadata": {},
   "outputs": [],
   "source": [
    "f3 = codecs.open(\"dict_only_words.txt\", \"w\", encoding=\"utf-8\")\n",
    "for key in mydict.keys():\n",
    "    s=mydict.get(key)\n",
    "    if s>=100:\n",
    "        f3.write(key+'\\n')\n",
    "f3.close()"
   ]
  },
  {
   "cell_type": "markdown",
   "metadata": {},
   "source": [
    "Из получившегося словаря в ручном режиме удалены слова, не определяющие тему обращения. Осталось 166 слов. Загрузим их в словарь"
   ]
  },
  {
   "cell_type": "code",
   "execution_count": 266,
   "metadata": {},
   "outputs": [],
   "source": [
    "f4 = codecs.open(\"dict_only_words_filtered.txt\", \"r\", encoding=\"utf-8\")\n",
    "dict_words_filtered={}\n",
    "i=0\n",
    "line = f4.readline()\n",
    "dict_words_filtered.update({line:i})\n",
    "while line:\n",
    "    i+=1\n",
    "    line = f4.readline()\n",
    "    dict_words_filtered.update({line:i})\n",
    "f4.close()"
   ]
  },
  {
   "cell_type": "code",
   "execution_count": 267,
   "metadata": {},
   "outputs": [
    {
     "data": {
      "text/plain": [
       "166"
      ]
     },
     "execution_count": 267,
     "metadata": {},
     "output_type": "execute_result"
    }
   ],
   "source": [
    "len(dict_words_filtered)"
   ]
  },
  {
   "cell_type": "markdown",
   "metadata": {},
   "source": [
    "Сформируем выборку из 200 обращений, таких, что в них входит хотя бы одно слово из нашего словаря"
   ]
  },
  {
   "cell_type": "code",
   "execution_count": 290,
   "metadata": {},
   "outputs": [],
   "source": [
    "dialog_word_matr=np.zeros((200,len(dict_words_filtered)))\n",
    "data_train2=[]"
   ]
  },
  {
   "cell_type": "code",
   "execution_count": 309,
   "metadata": {},
   "outputs": [],
   "source": [
    "i=0\n",
    "n=0\n",
    "while (i<200) and (n<1000):\n",
    "    #if i % 1000 == 0:\n",
    "    #    print i\n",
    "    str1=data_train[n].split()\n",
    "    m=0\n",
    "    for j in range (0,len(str1)):\n",
    "        word1=str1[j]\n",
    "        word1=morph.parse(word1)[0].normalized[0]\n",
    "        #print word1\n",
    "        k=dict_words_filtered.get(word1+'\\n')\n",
    "        #if word1==u'роуминг':\n",
    "        #    print data_train[n]\n",
    "        #    print i\n",
    "        #    print k\n",
    "        if k>0:\n",
    "            m=1\n",
    "            dialog_word_matr[i][k]=1            \n",
    "    if m==1:\n",
    "        data_train2.append(data_train[n])\n",
    "        i=i+1\n",
    "    n+=1\n",
    "    #print i"
   ]
  },
  {
   "cell_type": "code",
   "execution_count": 310,
   "metadata": {},
   "outputs": [],
   "source": [
    "f5 = codecs.open(\"data_train2.txt\", \"w\", encoding=\"utf-8\")\n",
    "for i in range(0,200):\n",
    "    f5.write(data_train2[i])\n",
    "f5.close()"
   ]
  },
  {
   "cell_type": "markdown",
   "metadata": {},
   "source": [
    "Разметим вручную темы обращений:\n",
    "1 - тариф\n",
    "2 - перевод денежных средств\n",
    "3 - подписка/контент\n",
    "4 - проблемы со связью\n",
    "5 - интернет/MMS\n",
    "6 - услуги, подключенные на номере\n",
    "7 - проверка баланса/разъяснение списаний\n",
    "8 - перенос остатков\n",
    "9 - зона покрытия\n",
    "10 - восстановление SIM/коды PIN и PUK\n",
    "11 - роуминг\n",
    "12 - ответ по заявке\n",
    "13 - черный список\n",
    "14 - MNP\n",
    "15 - обмен минут на гигабайты\n",
    "16 - Теле2-тема\n",
    "0 - другое"
   ]
  },
  {
   "cell_type": "markdown",
   "metadata": {},
   "source": [
    "загрузим данные по темам обращений"
   ]
  },
  {
   "cell_type": "code",
   "execution_count": 311,
   "metadata": {},
   "outputs": [],
   "source": [
    "f6 = codecs.open(\"data_themes.csv\", \"r\", encoding=\"utf-8\")\n",
    "data_themes=np.zeros(200)\n",
    "line = f6.readline()\n",
    "i=0\n",
    "data_themes[i]=int(line)\n",
    "while line:\n",
    "    line = f6.readline()\n",
    "    i+=1\n",
    "    if line:\n",
    "        data_themes[i]=int(line)\n",
    "f6.close()"
   ]
  },
  {
   "cell_type": "markdown",
   "metadata": {},
   "source": [
    "исключим из матрицы частот слов и из вектора тем тему \"другое\""
   ]
  },
  {
   "cell_type": "code",
   "execution_count": 312,
   "metadata": {},
   "outputs": [],
   "source": [
    "dialog_word_matr_filtered=dialog_word_matr[[data_themes>np.zeros(200)]]\n",
    "data_themes_filtered=data_themes[data_themes>np.zeros(200)]"
   ]
  },
  {
   "cell_type": "code",
   "execution_count": 313,
   "metadata": {},
   "outputs": [
    {
     "data": {
      "text/plain": [
       "164"
      ]
     },
     "execution_count": 313,
     "metadata": {},
     "output_type": "execute_result"
    }
   ],
   "source": [
    "len(data_themes_filtered)"
   ]
  },
  {
   "cell_type": "code",
   "execution_count": 314,
   "metadata": {},
   "outputs": [],
   "source": [
    "num_themes=data_themes_filtered.max()"
   ]
  },
  {
   "cell_type": "code",
   "execution_count": 315,
   "metadata": {},
   "outputs": [],
   "source": [
    "freq_word_theme_matr=np.zeros((len(dict_words_filtered),int(num_themes)))"
   ]
  },
  {
   "cell_type": "code",
   "execution_count": 316,
   "metadata": {},
   "outputs": [
    {
     "data": {
      "text/plain": [
       "16.0"
      ]
     },
     "execution_count": 316,
     "metadata": {},
     "output_type": "execute_result"
    }
   ],
   "source": [
    "num_themes"
   ]
  },
  {
   "cell_type": "markdown",
   "metadata": {},
   "source": [
    "Заполним матрицу принадлежности слов к темам"
   ]
  },
  {
   "cell_type": "code",
   "execution_count": 317,
   "metadata": {},
   "outputs": [],
   "source": [
    "for i in range (0,len(data_themes_filtered)):\n",
    "    for j in range(0,len(dict_words_filtered)):\n",
    "        if(dialog_word_matr_filtered[i][j])>0: \n",
    "            freq_word_theme_matr[j][int(data_themes_filtered[i])-1]+=1"
   ]
  },
  {
   "cell_type": "markdown",
   "metadata": {},
   "source": [
    "Нормируем столбцы матрицы, чтобы не было перекоса в сторону тем обращений, которые чаще встречаются"
   ]
  },
  {
   "cell_type": "code",
   "execution_count": 318,
   "metadata": {},
   "outputs": [],
   "source": [
    "freq_word_abs=freq_word_theme_matr.sum(axis=1)"
   ]
  },
  {
   "cell_type": "code",
   "execution_count": 319,
   "metadata": {},
   "outputs": [
    {
     "data": {
      "text/plain": [
       "array([ 0., 11.,  6.,  1.,  1.,  4.,  3.,  6.,  5.,  2.,  0.,  6.,  3.,\n",
       "        3., 17.,  1.,  4.,  4.,  6.,  0.,  1.,  2.,  3.,  6.,  6.,  2.,\n",
       "        1.,  1.,  2.,  2.,  7.,  2.,  8.,  4.,  0.,  2.,  5.,  1.,  2.,\n",
       "        3.,  8., 13.,  5.,  5.,  0.,  4., 26.,  4.,  2.,  3.,  3.,  5.,\n",
       "        2.,  2.,  3.,  8., 11.,  4.,  4.,  1., 21.,  6.,  4.,  6.,  2.,\n",
       "        1., 21.,  1.,  1.,  2.,  2.,  4.,  1.,  3., 10.,  7.,  7.,  2.,\n",
       "       27.,  9., 46.,  4.,  1.,  9., 22.,  5.,  4.,  3., 16.,  6., 11.,\n",
       "        1., 12., 25.,  9.,  3.,  2.,  2.,  3.,  4.,  4.,  8.,  1.,  6.,\n",
       "        7.,  1.,  1.,  4.,  3., 13.,  5.,  5.,  4.,  4.,  3.,  3.,  1.,\n",
       "        2.,  5.,  1.,  3., 10.,  3.,  3., 10.,  7.,  0.,  6.,  3.,  3.,\n",
       "        2.,  8.,  4.,  3.,  3.,  0.,  4.,  7.,  1.,  2.,  1.,  3., 11.,\n",
       "       18.,  1.,  1., 12.,  3.,  4.,  2.,  2.,  7.,  1., 14.,  5.,  3.,\n",
       "        3.,  3.,  3.,  2.,  9., 49.,  4., 16.,  4.,  6.])"
      ]
     },
     "execution_count": 319,
     "metadata": {},
     "output_type": "execute_result"
    }
   ],
   "source": [
    "freq_word_abs"
   ]
  },
  {
   "cell_type": "code",
   "execution_count": 320,
   "metadata": {},
   "outputs": [],
   "source": [
    "freq_word_theme_normed=np.zeros((len(dict_words_filtered),int(num_themes)))\n",
    "for i in range(0,len(dict_words_filtered)):\n",
    "    for j in range(0,int(num_themes)):\n",
    "        if freq_word_abs[i]>0: \n",
    "            freq_word_theme_normed[i][j]=(freq_word_theme_matr[i][j]+0.0)/freq_word_abs[i]"
   ]
  },
  {
   "cell_type": "markdown",
   "metadata": {},
   "source": [
    "Создадим процедуру, которая будет по тексту определять вероятность его принадлежности к каждой из тем (индексы сдвинуты на 1 влево, т.к. исключена тема \"другое\")"
   ]
  },
  {
   "cell_type": "code",
   "execution_count": 321,
   "metadata": {},
   "outputs": [],
   "source": [
    "def find_theme(test_str):\n",
    "    prob_vect=np.zeros(int(num_themes))\n",
    "    str1=test_str.split()\n",
    "    for j in range (0,len(str1)):\n",
    "        word1=str1[j]\n",
    "        word1=morph.parse(word1)[0].normalized[0]\n",
    "        #print word1\n",
    "        k=dict_words_filtered.get(word1+'\\n')\n",
    "        #print k\n",
    "        if k>0:\n",
    "            prob_vect+=freq_word_theme_matr[k]\n",
    "    return prob_vect/prob_vect.sum()"
   ]
  },
  {
   "cell_type": "markdown",
   "metadata": {},
   "source": [
    "Тестируем...."
   ]
  },
  {
   "cell_type": "code",
   "execution_count": 322,
   "metadata": {},
   "outputs": [
    {
     "data": {
      "text/plain": [
       "array([0.42738589, 0.        , 0.        , 0.02489627, 0.32365145,\n",
       "       0.00829876, 0.04564315, 0.04564315, 0.02489627, 0.        ,\n",
       "       0.09543568, 0.        , 0.        , 0.00414938, 0.        ,\n",
       "       0.        ])"
      ]
     },
     "execution_count": 322,
     "metadata": {},
     "output_type": "execute_result"
    }
   ],
   "source": [
    "find_theme(u'Здравствуйте Мой тариф  орион федеральный На каких условиях я могу использовать  сотовую связи свыше тарифного плана xxx xxx xx xx Здравствуйте! Мой тариф  орион федеральный На каких условиях я могу использовать  интернет свыше тарифного плана xxx xxx xx xx xxxxx xxxxx xxxxx xxxxx xxxxx xxxxx Да То есть сверх пакета интернет  бесплатный но скорость падает Всё вопросов нет Спасибо :)'\n",
    ")"
   ]
  },
  {
   "cell_type": "code",
   "execution_count": 324,
   "metadata": {},
   "outputs": [
    {
     "data": {
      "text/plain": [
       "array([0.11538462, 0.        , 0.03846154, 0.03846154, 0.26923077,\n",
       "       0.        , 0.07692308, 0.03846154, 0.        , 0.        ,\n",
       "       0.26923077, 0.07692308, 0.        , 0.03846154, 0.        ,\n",
       "       0.03846154])"
      ]
     },
     "execution_count": 324,
     "metadata": {},
     "output_type": "execute_result"
    }
   ],
   "source": [
    "find_theme(u'Почему роуминг не подключается в Китае Проблема решена спасибо')"
   ]
  },
  {
   "cell_type": "code",
   "execution_count": 325,
   "metadata": {},
   "outputs": [
    {
     "data": {
      "text/plain": [
       "array([0.17333333, 0.01333333, 0.06666667, 0.04      , 0.4       ,\n",
       "       0.05333333, 0.05333333, 0.04      , 0.01333333, 0.        ,\n",
       "       0.14666667, 0.        , 0.        , 0.        , 0.        ,\n",
       "       0.        ])"
      ]
     },
     "execution_count": 325,
     "metadata": {},
     "output_type": "execute_result"
    }
   ],
   "source": [
    "find_theme(u'Здравствуйте! Алла Просьба подключить выход в Интернет для номера xxx xxx xx xx Да xxxxx xxxxx Спасибо До свидания')"
   ]
  },
  {
   "cell_type": "markdown",
   "metadata": {},
   "source": [
    "Вывод: модель успешно определяет наиболее популярные темы обращений. Рекомендуется выполнить обучение модели на стратифицированной выборке большего объема, в этом случае можно ожидать существенное улучшение качества модели"
   ]
  },
  {
   "cell_type": "code",
   "execution_count": null,
   "metadata": {},
   "outputs": [],
   "source": []
  }
 ],
 "metadata": {
  "kernelspec": {
   "display_name": "Python 2",
   "language": "python",
   "name": "python2"
  },
  "language_info": {
   "codemirror_mode": {
    "name": "ipython",
    "version": 2
   },
   "file_extension": ".py",
   "mimetype": "text/x-python",
   "name": "python",
   "nbconvert_exporter": "python",
   "pygments_lexer": "ipython2",
   "version": "2.7.14"
  }
 },
 "nbformat": 4,
 "nbformat_minor": 2
}
